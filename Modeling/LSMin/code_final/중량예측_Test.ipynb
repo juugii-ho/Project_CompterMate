{
 "cells": [
  {
   "cell_type": "markdown",
   "metadata": {},
   "source": [
    "## 데이터 로딩 <hr>"
   ]
  },
  {
   "cell_type": "code",
   "execution_count": 1,
   "metadata": {},
   "outputs": [],
   "source": [
    "import pandas as pd\n",
    "import matplotlib.pyplot as plt\n",
    "import numpy as np\n",
    "import seaborn as sns"
   ]
  },
  {
   "cell_type": "code",
   "execution_count": 2,
   "metadata": {},
   "outputs": [],
   "source": [
    "file = '../data/공정데이터 추가자료.csv'\n",
    "data = pd.read_csv(file)"
   ]
  },
  {
   "cell_type": "markdown",
   "metadata": {},
   "source": [
    "## 데이터 전처리 <hr>"
   ]
  },
  {
   "cell_type": "code",
   "execution_count": 3,
   "metadata": {},
   "outputs": [],
   "source": [
    "# 불필요 컬럼(Unnamed: 12 -> 데이터 값이 없거나 0) 제거\n",
    "data = data.drop(columns=['Unnamed: 12'])"
   ]
  },
  {
   "cell_type": "code",
   "execution_count": 4,
   "metadata": {},
   "outputs": [
    {
     "data": {
      "text/plain": [
       "<bound method Series.info of 0         2023-05-18T15:09:19.018900Z\n",
       "1         2023-05-18T15:09:20.128150Z\n",
       "2         2023-05-18T15:12:38.819460Z\n",
       "3         2023-05-18T15:12:39.958188Z\n",
       "4         2023-05-18T15:12:41.050178Z\n",
       "                     ...             \n",
       "235408    2023-10-16T09:34:12.837701Z\n",
       "235409    2023-10-16T09:34:13.915681Z\n",
       "235410    2023-10-16T09:34:14.978068Z\n",
       "235411    2023-10-16T09:34:16.040468Z\n",
       "235412    2023-10-16T09:34:17.087220Z\n",
       "Name: time, Length: 235413, dtype: object>"
      ]
     },
     "execution_count": 4,
     "metadata": {},
     "output_type": "execute_result"
    }
   ],
   "source": [
    "# 'time' 컬럼 확인\n",
    "data['time'].info"
   ]
  },
  {
   "cell_type": "code",
   "execution_count": 5,
   "metadata": {},
   "outputs": [],
   "source": [
    "# 'time' 컬럼을 datetime 형식으로 변환\n",
    "data['time'] = pd.to_datetime(data['time']).dt.tz_localize(None)"
   ]
  },
  {
   "cell_type": "code",
   "execution_count": 6,
   "metadata": {},
   "outputs": [],
   "source": [
    "# 10월 1일을 기준으로 데이터 분할\n",
    "oct_1 = pd.Timestamp('2023-10-01')"
   ]
  },
  {
   "cell_type": "code",
   "execution_count": 7,
   "metadata": {},
   "outputs": [],
   "source": [
    "# 10월 이전 데이터\n",
    "before_oct_data = data[data['time'] < oct_1]"
   ]
  },
  {
   "cell_type": "code",
   "execution_count": 8,
   "metadata": {},
   "outputs": [],
   "source": [
    "# 10월 이후 데이터\n",
    "after_oct_data = data[data['time'] >= oct_1]"
   ]
  },
  {
   "cell_type": "code",
   "execution_count": 9,
   "metadata": {},
   "outputs": [
    {
     "data": {
      "text/html": [
       "<div>\n",
       "<style scoped>\n",
       "    .dataframe tbody tr th:only-of-type {\n",
       "        vertical-align: middle;\n",
       "    }\n",
       "\n",
       "    .dataframe tbody tr th {\n",
       "        vertical-align: top;\n",
       "    }\n",
       "\n",
       "    .dataframe thead th {\n",
       "        text-align: right;\n",
       "    }\n",
       "</style>\n",
       "<table border=\"1\" class=\"dataframe\">\n",
       "  <thead>\n",
       "    <tr style=\"text-align: right;\">\n",
       "      <th></th>\n",
       "      <th>time</th>\n",
       "      <th>E_scr_pv</th>\n",
       "      <th>E_scr_sv</th>\n",
       "      <th>c_temp_pv</th>\n",
       "      <th>c_temp_sv</th>\n",
       "      <th>k_rpm_pv</th>\n",
       "      <th>k_rpm_sv</th>\n",
       "      <th>n_temp_pv</th>\n",
       "      <th>n_temp_sv</th>\n",
       "      <th>scale_pv</th>\n",
       "      <th>s_temp_pv</th>\n",
       "      <th>s_temp_sv</th>\n",
       "    </tr>\n",
       "  </thead>\n",
       "  <tbody>\n",
       "    <tr>\n",
       "      <th>205736</th>\n",
       "      <td>2023-10-05 02:53:30.704112</td>\n",
       "      <td>8</td>\n",
       "      <td>8</td>\n",
       "      <td>69.4</td>\n",
       "      <td>70</td>\n",
       "      <td>40</td>\n",
       "      <td>400</td>\n",
       "      <td>69.6</td>\n",
       "      <td>70</td>\n",
       "      <td>0.0</td>\n",
       "      <td>70.2</td>\n",
       "      <td>70</td>\n",
       "    </tr>\n",
       "    <tr>\n",
       "      <th>205737</th>\n",
       "      <td>2023-10-05 02:53:31.813290</td>\n",
       "      <td>8</td>\n",
       "      <td>8</td>\n",
       "      <td>69.4</td>\n",
       "      <td>70</td>\n",
       "      <td>180</td>\n",
       "      <td>1800</td>\n",
       "      <td>69.5</td>\n",
       "      <td>70</td>\n",
       "      <td>0.0</td>\n",
       "      <td>70.3</td>\n",
       "      <td>70</td>\n",
       "    </tr>\n",
       "    <tr>\n",
       "      <th>205738</th>\n",
       "      <td>2023-10-05 02:53:32.906953</td>\n",
       "      <td>8</td>\n",
       "      <td>8</td>\n",
       "      <td>69.4</td>\n",
       "      <td>70</td>\n",
       "      <td>179</td>\n",
       "      <td>1790</td>\n",
       "      <td>69.4</td>\n",
       "      <td>70</td>\n",
       "      <td>0.0</td>\n",
       "      <td>70.4</td>\n",
       "      <td>70</td>\n",
       "    </tr>\n",
       "    <tr>\n",
       "      <th>205739</th>\n",
       "      <td>2023-10-05 02:53:33.969382</td>\n",
       "      <td>8</td>\n",
       "      <td>8</td>\n",
       "      <td>69.5</td>\n",
       "      <td>70</td>\n",
       "      <td>176</td>\n",
       "      <td>1760</td>\n",
       "      <td>69.4</td>\n",
       "      <td>70</td>\n",
       "      <td>0.0</td>\n",
       "      <td>70.6</td>\n",
       "      <td>70</td>\n",
       "    </tr>\n",
       "    <tr>\n",
       "      <th>205740</th>\n",
       "      <td>2023-10-05 02:53:35.047314</td>\n",
       "      <td>8</td>\n",
       "      <td>8</td>\n",
       "      <td>69.4</td>\n",
       "      <td>70</td>\n",
       "      <td>173</td>\n",
       "      <td>1730</td>\n",
       "      <td>69.6</td>\n",
       "      <td>70</td>\n",
       "      <td>0.0</td>\n",
       "      <td>70.7</td>\n",
       "      <td>70</td>\n",
       "    </tr>\n",
       "    <tr>\n",
       "      <th>...</th>\n",
       "      <td>...</td>\n",
       "      <td>...</td>\n",
       "      <td>...</td>\n",
       "      <td>...</td>\n",
       "      <td>...</td>\n",
       "      <td>...</td>\n",
       "      <td>...</td>\n",
       "      <td>...</td>\n",
       "      <td>...</td>\n",
       "      <td>...</td>\n",
       "      <td>...</td>\n",
       "      <td>...</td>\n",
       "    </tr>\n",
       "    <tr>\n",
       "      <th>235408</th>\n",
       "      <td>2023-10-16 09:34:12.837701</td>\n",
       "      <td>8</td>\n",
       "      <td>8</td>\n",
       "      <td>69.8</td>\n",
       "      <td>70</td>\n",
       "      <td>191</td>\n",
       "      <td>1910</td>\n",
       "      <td>67.5</td>\n",
       "      <td>70</td>\n",
       "      <td>0.0</td>\n",
       "      <td>67.0</td>\n",
       "      <td>70</td>\n",
       "    </tr>\n",
       "    <tr>\n",
       "      <th>235409</th>\n",
       "      <td>2023-10-16 09:34:13.915681</td>\n",
       "      <td>8</td>\n",
       "      <td>8</td>\n",
       "      <td>69.7</td>\n",
       "      <td>70</td>\n",
       "      <td>191</td>\n",
       "      <td>1910</td>\n",
       "      <td>67.4</td>\n",
       "      <td>70</td>\n",
       "      <td>0.0</td>\n",
       "      <td>66.8</td>\n",
       "      <td>70</td>\n",
       "    </tr>\n",
       "    <tr>\n",
       "      <th>235410</th>\n",
       "      <td>2023-10-16 09:34:14.978068</td>\n",
       "      <td>8</td>\n",
       "      <td>8</td>\n",
       "      <td>69.7</td>\n",
       "      <td>70</td>\n",
       "      <td>191</td>\n",
       "      <td>1910</td>\n",
       "      <td>67.3</td>\n",
       "      <td>70</td>\n",
       "      <td>0.0</td>\n",
       "      <td>66.7</td>\n",
       "      <td>70</td>\n",
       "    </tr>\n",
       "    <tr>\n",
       "      <th>235411</th>\n",
       "      <td>2023-10-16 09:34:16.040468</td>\n",
       "      <td>8</td>\n",
       "      <td>8</td>\n",
       "      <td>69.8</td>\n",
       "      <td>70</td>\n",
       "      <td>191</td>\n",
       "      <td>1910</td>\n",
       "      <td>67.2</td>\n",
       "      <td>70</td>\n",
       "      <td>0.0</td>\n",
       "      <td>66.6</td>\n",
       "      <td>70</td>\n",
       "    </tr>\n",
       "    <tr>\n",
       "      <th>235412</th>\n",
       "      <td>2023-10-16 09:34:17.087220</td>\n",
       "      <td>8</td>\n",
       "      <td>8</td>\n",
       "      <td>69.8</td>\n",
       "      <td>70</td>\n",
       "      <td>0</td>\n",
       "      <td>1910</td>\n",
       "      <td>67.3</td>\n",
       "      <td>70</td>\n",
       "      <td>0.0</td>\n",
       "      <td>66.6</td>\n",
       "      <td>70</td>\n",
       "    </tr>\n",
       "  </tbody>\n",
       "</table>\n",
       "<p>29677 rows × 12 columns</p>\n",
       "</div>"
      ],
      "text/plain": [
       "                             time  E_scr_pv  E_scr_sv  c_temp_pv  c_temp_sv  \\\n",
       "205736 2023-10-05 02:53:30.704112         8         8       69.4         70   \n",
       "205737 2023-10-05 02:53:31.813290         8         8       69.4         70   \n",
       "205738 2023-10-05 02:53:32.906953         8         8       69.4         70   \n",
       "205739 2023-10-05 02:53:33.969382         8         8       69.5         70   \n",
       "205740 2023-10-05 02:53:35.047314         8         8       69.4         70   \n",
       "...                           ...       ...       ...        ...        ...   \n",
       "235408 2023-10-16 09:34:12.837701         8         8       69.8         70   \n",
       "235409 2023-10-16 09:34:13.915681         8         8       69.7         70   \n",
       "235410 2023-10-16 09:34:14.978068         8         8       69.7         70   \n",
       "235411 2023-10-16 09:34:16.040468         8         8       69.8         70   \n",
       "235412 2023-10-16 09:34:17.087220         8         8       69.8         70   \n",
       "\n",
       "        k_rpm_pv  k_rpm_sv  n_temp_pv  n_temp_sv  scale_pv  s_temp_pv  \\\n",
       "205736        40       400       69.6         70       0.0       70.2   \n",
       "205737       180      1800       69.5         70       0.0       70.3   \n",
       "205738       179      1790       69.4         70       0.0       70.4   \n",
       "205739       176      1760       69.4         70       0.0       70.6   \n",
       "205740       173      1730       69.6         70       0.0       70.7   \n",
       "...          ...       ...        ...        ...       ...        ...   \n",
       "235408       191      1910       67.5         70       0.0       67.0   \n",
       "235409       191      1910       67.4         70       0.0       66.8   \n",
       "235410       191      1910       67.3         70       0.0       66.7   \n",
       "235411       191      1910       67.2         70       0.0       66.6   \n",
       "235412         0      1910       67.3         70       0.0       66.6   \n",
       "\n",
       "        s_temp_sv  \n",
       "205736         70  \n",
       "205737         70  \n",
       "205738         70  \n",
       "205739         70  \n",
       "205740         70  \n",
       "...           ...  \n",
       "235408         70  \n",
       "235409         70  \n",
       "235410         70  \n",
       "235411         70  \n",
       "235412         70  \n",
       "\n",
       "[29677 rows x 12 columns]"
      ]
     },
     "execution_count": 9,
     "metadata": {},
     "output_type": "execute_result"
    }
   ],
   "source": [
    "# 10월 이후 데이터 형식 확인\n",
    "after_oct_data"
   ]
  },
  {
   "cell_type": "markdown",
   "metadata": {},
   "source": [
    "### 피쳐공학적 접근에 따른 데이터 => set_data <hr>"
   ]
  },
  {
   "cell_type": "code",
   "execution_count": 10,
   "metadata": {},
   "outputs": [
    {
     "data": {
      "text/html": [
       "<div>\n",
       "<style scoped>\n",
       "    .dataframe tbody tr th:only-of-type {\n",
       "        vertical-align: middle;\n",
       "    }\n",
       "\n",
       "    .dataframe tbody tr th {\n",
       "        vertical-align: top;\n",
       "    }\n",
       "\n",
       "    .dataframe thead th {\n",
       "        text-align: right;\n",
       "    }\n",
       "</style>\n",
       "<table border=\"1\" class=\"dataframe\">\n",
       "  <thead>\n",
       "    <tr style=\"text-align: right;\">\n",
       "      <th></th>\n",
       "      <th>E_scr_pv</th>\n",
       "      <th>E_scr_sv</th>\n",
       "      <th>c_temp_pv</th>\n",
       "      <th>c_temp_sv</th>\n",
       "      <th>k_rpm_pv</th>\n",
       "      <th>k_rpm_sv</th>\n",
       "      <th>n_temp_pv</th>\n",
       "      <th>n_temp_sv</th>\n",
       "      <th>scale_pv</th>\n",
       "      <th>s_temp_pv</th>\n",
       "      <th>s_temp_sv</th>\n",
       "    </tr>\n",
       "  </thead>\n",
       "  <tbody>\n",
       "    <tr>\n",
       "      <th>205736</th>\n",
       "      <td>8</td>\n",
       "      <td>8</td>\n",
       "      <td>69.4</td>\n",
       "      <td>70</td>\n",
       "      <td>40</td>\n",
       "      <td>400</td>\n",
       "      <td>69.6</td>\n",
       "      <td>70</td>\n",
       "      <td>0.0</td>\n",
       "      <td>70.2</td>\n",
       "      <td>70</td>\n",
       "    </tr>\n",
       "    <tr>\n",
       "      <th>205737</th>\n",
       "      <td>8</td>\n",
       "      <td>8</td>\n",
       "      <td>69.4</td>\n",
       "      <td>70</td>\n",
       "      <td>180</td>\n",
       "      <td>1800</td>\n",
       "      <td>69.5</td>\n",
       "      <td>70</td>\n",
       "      <td>0.0</td>\n",
       "      <td>70.3</td>\n",
       "      <td>70</td>\n",
       "    </tr>\n",
       "    <tr>\n",
       "      <th>205738</th>\n",
       "      <td>8</td>\n",
       "      <td>8</td>\n",
       "      <td>69.4</td>\n",
       "      <td>70</td>\n",
       "      <td>179</td>\n",
       "      <td>1790</td>\n",
       "      <td>69.4</td>\n",
       "      <td>70</td>\n",
       "      <td>0.0</td>\n",
       "      <td>70.4</td>\n",
       "      <td>70</td>\n",
       "    </tr>\n",
       "    <tr>\n",
       "      <th>205739</th>\n",
       "      <td>8</td>\n",
       "      <td>8</td>\n",
       "      <td>69.5</td>\n",
       "      <td>70</td>\n",
       "      <td>176</td>\n",
       "      <td>1760</td>\n",
       "      <td>69.4</td>\n",
       "      <td>70</td>\n",
       "      <td>0.0</td>\n",
       "      <td>70.6</td>\n",
       "      <td>70</td>\n",
       "    </tr>\n",
       "    <tr>\n",
       "      <th>205740</th>\n",
       "      <td>8</td>\n",
       "      <td>8</td>\n",
       "      <td>69.4</td>\n",
       "      <td>70</td>\n",
       "      <td>173</td>\n",
       "      <td>1730</td>\n",
       "      <td>69.6</td>\n",
       "      <td>70</td>\n",
       "      <td>0.0</td>\n",
       "      <td>70.7</td>\n",
       "      <td>70</td>\n",
       "    </tr>\n",
       "    <tr>\n",
       "      <th>...</th>\n",
       "      <td>...</td>\n",
       "      <td>...</td>\n",
       "      <td>...</td>\n",
       "      <td>...</td>\n",
       "      <td>...</td>\n",
       "      <td>...</td>\n",
       "      <td>...</td>\n",
       "      <td>...</td>\n",
       "      <td>...</td>\n",
       "      <td>...</td>\n",
       "      <td>...</td>\n",
       "    </tr>\n",
       "    <tr>\n",
       "      <th>235408</th>\n",
       "      <td>8</td>\n",
       "      <td>8</td>\n",
       "      <td>69.8</td>\n",
       "      <td>70</td>\n",
       "      <td>191</td>\n",
       "      <td>1910</td>\n",
       "      <td>67.5</td>\n",
       "      <td>70</td>\n",
       "      <td>0.0</td>\n",
       "      <td>67.0</td>\n",
       "      <td>70</td>\n",
       "    </tr>\n",
       "    <tr>\n",
       "      <th>235409</th>\n",
       "      <td>8</td>\n",
       "      <td>8</td>\n",
       "      <td>69.7</td>\n",
       "      <td>70</td>\n",
       "      <td>191</td>\n",
       "      <td>1910</td>\n",
       "      <td>67.4</td>\n",
       "      <td>70</td>\n",
       "      <td>0.0</td>\n",
       "      <td>66.8</td>\n",
       "      <td>70</td>\n",
       "    </tr>\n",
       "    <tr>\n",
       "      <th>235410</th>\n",
       "      <td>8</td>\n",
       "      <td>8</td>\n",
       "      <td>69.7</td>\n",
       "      <td>70</td>\n",
       "      <td>191</td>\n",
       "      <td>1910</td>\n",
       "      <td>67.3</td>\n",
       "      <td>70</td>\n",
       "      <td>0.0</td>\n",
       "      <td>66.7</td>\n",
       "      <td>70</td>\n",
       "    </tr>\n",
       "    <tr>\n",
       "      <th>235411</th>\n",
       "      <td>8</td>\n",
       "      <td>8</td>\n",
       "      <td>69.8</td>\n",
       "      <td>70</td>\n",
       "      <td>191</td>\n",
       "      <td>1910</td>\n",
       "      <td>67.2</td>\n",
       "      <td>70</td>\n",
       "      <td>0.0</td>\n",
       "      <td>66.6</td>\n",
       "      <td>70</td>\n",
       "    </tr>\n",
       "    <tr>\n",
       "      <th>235412</th>\n",
       "      <td>8</td>\n",
       "      <td>8</td>\n",
       "      <td>69.8</td>\n",
       "      <td>70</td>\n",
       "      <td>0</td>\n",
       "      <td>1910</td>\n",
       "      <td>67.3</td>\n",
       "      <td>70</td>\n",
       "      <td>0.0</td>\n",
       "      <td>66.6</td>\n",
       "      <td>70</td>\n",
       "    </tr>\n",
       "  </tbody>\n",
       "</table>\n",
       "<p>29677 rows × 11 columns</p>\n",
       "</div>"
      ],
      "text/plain": [
       "        E_scr_pv  E_scr_sv  c_temp_pv  c_temp_sv  k_rpm_pv  k_rpm_sv  \\\n",
       "205736         8         8       69.4         70        40       400   \n",
       "205737         8         8       69.4         70       180      1800   \n",
       "205738         8         8       69.4         70       179      1790   \n",
       "205739         8         8       69.5         70       176      1760   \n",
       "205740         8         8       69.4         70       173      1730   \n",
       "...          ...       ...        ...        ...       ...       ...   \n",
       "235408         8         8       69.8         70       191      1910   \n",
       "235409         8         8       69.7         70       191      1910   \n",
       "235410         8         8       69.7         70       191      1910   \n",
       "235411         8         8       69.8         70       191      1910   \n",
       "235412         8         8       69.8         70         0      1910   \n",
       "\n",
       "        n_temp_pv  n_temp_sv  scale_pv  s_temp_pv  s_temp_sv  \n",
       "205736       69.6         70       0.0       70.2         70  \n",
       "205737       69.5         70       0.0       70.3         70  \n",
       "205738       69.4         70       0.0       70.4         70  \n",
       "205739       69.4         70       0.0       70.6         70  \n",
       "205740       69.6         70       0.0       70.7         70  \n",
       "...           ...        ...       ...        ...        ...  \n",
       "235408       67.5         70       0.0       67.0         70  \n",
       "235409       67.4         70       0.0       66.8         70  \n",
       "235410       67.3         70       0.0       66.7         70  \n",
       "235411       67.2         70       0.0       66.6         70  \n",
       "235412       67.3         70       0.0       66.6         70  \n",
       "\n",
       "[29677 rows x 11 columns]"
      ]
     },
     "execution_count": 10,
     "metadata": {},
     "output_type": "execute_result"
    }
   ],
   "source": [
    "# 불규칙적으로 측정된 'time' 컬럼 제거\n",
    "set_data = after_oct_data.drop(columns=['time'])\n",
    "set_data"
   ]
  },
  {
   "cell_type": "markdown",
   "metadata": {},
   "source": [
    "### 모든 설정값이 동일한 s_temp_sv와 c_temp_sv컬럼 drop <hr>"
   ]
  },
  {
   "cell_type": "code",
   "execution_count": 11,
   "metadata": {},
   "outputs": [
    {
     "data": {
      "text/html": [
       "<div>\n",
       "<style scoped>\n",
       "    .dataframe tbody tr th:only-of-type {\n",
       "        vertical-align: middle;\n",
       "    }\n",
       "\n",
       "    .dataframe tbody tr th {\n",
       "        vertical-align: top;\n",
       "    }\n",
       "\n",
       "    .dataframe thead th {\n",
       "        text-align: right;\n",
       "    }\n",
       "</style>\n",
       "<table border=\"1\" class=\"dataframe\">\n",
       "  <thead>\n",
       "    <tr style=\"text-align: right;\">\n",
       "      <th></th>\n",
       "      <th>E_scr_pv</th>\n",
       "      <th>E_scr_sv</th>\n",
       "      <th>c_temp_pv</th>\n",
       "      <th>k_rpm_pv</th>\n",
       "      <th>k_rpm_sv</th>\n",
       "      <th>n_temp_pv</th>\n",
       "      <th>n_temp_sv</th>\n",
       "      <th>scale_pv</th>\n",
       "      <th>s_temp_pv</th>\n",
       "    </tr>\n",
       "  </thead>\n",
       "  <tbody>\n",
       "    <tr>\n",
       "      <th>205736</th>\n",
       "      <td>8</td>\n",
       "      <td>8</td>\n",
       "      <td>69.4</td>\n",
       "      <td>40</td>\n",
       "      <td>400</td>\n",
       "      <td>69.6</td>\n",
       "      <td>70</td>\n",
       "      <td>0.0</td>\n",
       "      <td>70.2</td>\n",
       "    </tr>\n",
       "    <tr>\n",
       "      <th>205737</th>\n",
       "      <td>8</td>\n",
       "      <td>8</td>\n",
       "      <td>69.4</td>\n",
       "      <td>180</td>\n",
       "      <td>1800</td>\n",
       "      <td>69.5</td>\n",
       "      <td>70</td>\n",
       "      <td>0.0</td>\n",
       "      <td>70.3</td>\n",
       "    </tr>\n",
       "    <tr>\n",
       "      <th>205738</th>\n",
       "      <td>8</td>\n",
       "      <td>8</td>\n",
       "      <td>69.4</td>\n",
       "      <td>179</td>\n",
       "      <td>1790</td>\n",
       "      <td>69.4</td>\n",
       "      <td>70</td>\n",
       "      <td>0.0</td>\n",
       "      <td>70.4</td>\n",
       "    </tr>\n",
       "    <tr>\n",
       "      <th>205739</th>\n",
       "      <td>8</td>\n",
       "      <td>8</td>\n",
       "      <td>69.5</td>\n",
       "      <td>176</td>\n",
       "      <td>1760</td>\n",
       "      <td>69.4</td>\n",
       "      <td>70</td>\n",
       "      <td>0.0</td>\n",
       "      <td>70.6</td>\n",
       "    </tr>\n",
       "    <tr>\n",
       "      <th>205740</th>\n",
       "      <td>8</td>\n",
       "      <td>8</td>\n",
       "      <td>69.4</td>\n",
       "      <td>173</td>\n",
       "      <td>1730</td>\n",
       "      <td>69.6</td>\n",
       "      <td>70</td>\n",
       "      <td>0.0</td>\n",
       "      <td>70.7</td>\n",
       "    </tr>\n",
       "    <tr>\n",
       "      <th>...</th>\n",
       "      <td>...</td>\n",
       "      <td>...</td>\n",
       "      <td>...</td>\n",
       "      <td>...</td>\n",
       "      <td>...</td>\n",
       "      <td>...</td>\n",
       "      <td>...</td>\n",
       "      <td>...</td>\n",
       "      <td>...</td>\n",
       "    </tr>\n",
       "    <tr>\n",
       "      <th>235408</th>\n",
       "      <td>8</td>\n",
       "      <td>8</td>\n",
       "      <td>69.8</td>\n",
       "      <td>191</td>\n",
       "      <td>1910</td>\n",
       "      <td>67.5</td>\n",
       "      <td>70</td>\n",
       "      <td>0.0</td>\n",
       "      <td>67.0</td>\n",
       "    </tr>\n",
       "    <tr>\n",
       "      <th>235409</th>\n",
       "      <td>8</td>\n",
       "      <td>8</td>\n",
       "      <td>69.7</td>\n",
       "      <td>191</td>\n",
       "      <td>1910</td>\n",
       "      <td>67.4</td>\n",
       "      <td>70</td>\n",
       "      <td>0.0</td>\n",
       "      <td>66.8</td>\n",
       "    </tr>\n",
       "    <tr>\n",
       "      <th>235410</th>\n",
       "      <td>8</td>\n",
       "      <td>8</td>\n",
       "      <td>69.7</td>\n",
       "      <td>191</td>\n",
       "      <td>1910</td>\n",
       "      <td>67.3</td>\n",
       "      <td>70</td>\n",
       "      <td>0.0</td>\n",
       "      <td>66.7</td>\n",
       "    </tr>\n",
       "    <tr>\n",
       "      <th>235411</th>\n",
       "      <td>8</td>\n",
       "      <td>8</td>\n",
       "      <td>69.8</td>\n",
       "      <td>191</td>\n",
       "      <td>1910</td>\n",
       "      <td>67.2</td>\n",
       "      <td>70</td>\n",
       "      <td>0.0</td>\n",
       "      <td>66.6</td>\n",
       "    </tr>\n",
       "    <tr>\n",
       "      <th>235412</th>\n",
       "      <td>8</td>\n",
       "      <td>8</td>\n",
       "      <td>69.8</td>\n",
       "      <td>0</td>\n",
       "      <td>1910</td>\n",
       "      <td>67.3</td>\n",
       "      <td>70</td>\n",
       "      <td>0.0</td>\n",
       "      <td>66.6</td>\n",
       "    </tr>\n",
       "  </tbody>\n",
       "</table>\n",
       "<p>29677 rows × 9 columns</p>\n",
       "</div>"
      ],
      "text/plain": [
       "        E_scr_pv  E_scr_sv  c_temp_pv  k_rpm_pv  k_rpm_sv  n_temp_pv  \\\n",
       "205736         8         8       69.4        40       400       69.6   \n",
       "205737         8         8       69.4       180      1800       69.5   \n",
       "205738         8         8       69.4       179      1790       69.4   \n",
       "205739         8         8       69.5       176      1760       69.4   \n",
       "205740         8         8       69.4       173      1730       69.6   \n",
       "...          ...       ...        ...       ...       ...        ...   \n",
       "235408         8         8       69.8       191      1910       67.5   \n",
       "235409         8         8       69.7       191      1910       67.4   \n",
       "235410         8         8       69.7       191      1910       67.3   \n",
       "235411         8         8       69.8       191      1910       67.2   \n",
       "235412         8         8       69.8         0      1910       67.3   \n",
       "\n",
       "        n_temp_sv  scale_pv  s_temp_pv  \n",
       "205736         70       0.0       70.2  \n",
       "205737         70       0.0       70.3  \n",
       "205738         70       0.0       70.4  \n",
       "205739         70       0.0       70.6  \n",
       "205740         70       0.0       70.7  \n",
       "...           ...       ...        ...  \n",
       "235408         70       0.0       67.0  \n",
       "235409         70       0.0       66.8  \n",
       "235410         70       0.0       66.7  \n",
       "235411         70       0.0       66.6  \n",
       "235412         70       0.0       66.6  \n",
       "\n",
       "[29677 rows x 9 columns]"
      ]
     },
     "execution_count": 11,
     "metadata": {},
     "output_type": "execute_result"
    }
   ],
   "source": [
    "# s_temp_sv와 c_temp_sv 컬럼 제거\n",
    "set_data = set_data.drop(columns=['s_temp_sv', 'c_temp_sv'])\n",
    "set_data"
   ]
  },
  {
   "cell_type": "markdown",
   "metadata": {},
   "source": [
    "### 2차 미팅 결과 E_scr_sv가 8이 아닌 다른 값으로 셋팅된 것은 다른 제품에 대한 셋팅값으로 판단. \n",
    "### 따라서 E_scr_sv가 8인 값만 남김 <hr>"
   ]
  },
  {
   "cell_type": "code",
   "execution_count": 12,
   "metadata": {},
   "outputs": [],
   "source": [
    "# E_scr_sv 값이 8인 행만 남기기\n",
    "set_data = set_data[set_data['E_scr_sv'] == 8]"
   ]
  },
  {
   "cell_type": "markdown",
   "metadata": {},
   "source": [
    "### E_scr_sv 값이 모두 8이므로 학습에 변화량을 제공하지 않아 삭제 <hr>"
   ]
  },
  {
   "cell_type": "code",
   "execution_count": 13,
   "metadata": {},
   "outputs": [],
   "source": [
    "# E_scr_sv 컬럼 제거\n",
    "set_data = set_data.drop(columns=['E_scr_sv'])"
   ]
  },
  {
   "cell_type": "markdown",
   "metadata": {},
   "source": [
    "### E_scr_sv 컬럼 삭제 후 확인 시 n_temp_sv 컬럼이 모두 같은 값으로 통일되었기에 해당 컬럼을 삭제 <hr>"
   ]
  },
  {
   "cell_type": "code",
   "execution_count": 14,
   "metadata": {},
   "outputs": [],
   "source": [
    "# n_temp_sv 컬럼 제거\n",
    "set_data = set_data.drop(columns=['n_temp_sv'])"
   ]
  },
  {
   "cell_type": "markdown",
   "metadata": {},
   "source": [
    "### 남은 컬럼 E_scr_pv, c_temp_pv, k_rpm_pv, k_rpm_sv, n_temp_pv, scale_pv, s_temp_pv \n",
    "### 값들에 대해 하나하나 확인  후 전처리 실행 <hr>"
   ]
  },
  {
   "cell_type": "markdown",
   "metadata": {},
   "source": [
    "#### E_scr_pv의 고유값의 종류가 적음을 그래프로 확인 -> 세부정보 파악"
   ]
  },
  {
   "cell_type": "code",
   "execution_count": 15,
   "metadata": {},
   "outputs": [
    {
     "name": "stdout",
     "output_type": "stream",
     "text": [
      "E_scr_pv 컬럼의 고유값:\n",
      "[8]\n"
     ]
    }
   ],
   "source": [
    "# E_scr_pv 컬럼의 고유값 확인\n",
    "unique_values = set_data['E_scr_pv'].unique()\n",
    "print(\"E_scr_pv 컬럼의 고유값:\")\n",
    "print(unique_values)"
   ]
  },
  {
   "cell_type": "code",
   "execution_count": 16,
   "metadata": {},
   "outputs": [],
   "source": [
    "# E_scr_pv 값이 8인 경우와 0인 경우로 데이터 나누기\n",
    "data_8 = set_data[set_data['E_scr_pv'] == 8]\n",
    "data_0 = set_data[set_data['E_scr_pv'] == 0]"
   ]
  },
  {
   "cell_type": "code",
   "execution_count": 17,
   "metadata": {},
   "outputs": [
    {
     "data": {
      "image/png": "[encoded data removed]",
      "text/plain": [
       "<Figure size 1400x800 with 1 Axes>"
      ]
     },
     "metadata": {},
     "output_type": "display_data"
    },
    {
     "data": {
      "image/png": "[encoded data removed]",
      "text/plain": [
       "<Figure size 1400x800 with 1 Axes>"
      ]
     },
     "metadata": {},
     "output_type": "display_data"
    },
    {
     "data": {
      "image/png": "[encoded data removed]",
      "text/plain": [
       "<Figure size 1400x800 with 1 Axes>"
      ]
     },
     "metadata": {},
     "output_type": "display_data"
    },
    {
     "data": {
      "image/png": "[encoded data removed]",
      "text/plain": [
       "<Figure size 1400x800 with 1 Axes>"
      ]
     },
     "metadata": {},
     "output_type": "display_data"
    },
    {
     "data": {
      "image/png": "[encoded data removed]",
      "text/plain": [
       "<Figure size 1400x800 with 1 Axes>"
      ]
     },
     "metadata": {},
     "output_type": "display_data"
    },
    {
     "data": {
      "image/png": "[encoded data removed]",
      "text/plain": [
       "<Figure size 1400x800 with 1 Axes>"
      ]
     },
     "metadata": {},
     "output_type": "display_data"
    },
    {
     "data": {
      "image/png": "[encoded data removed]",
      "text/plain": [
       "<Figure size 1400x800 with 1 Axes>"
      ]
     },
     "metadata": {},
     "output_type": "display_data"
    }
   ],
   "source": [
    "# E_scr_pv 값이 0인 경우의 각 컬럼별 그래프 그리기\n",
    "for column in data_0.columns:\n",
    "    plt.figure(figsize=(14, 8))\n",
    "    plt.plot(data_0.index, data_0[column], label=f'{column} (E_scr_pv=0)')\n",
    "    plt.xlabel('Index')\n",
    "    plt.ylabel(column)\n",
    "    plt.title(f'{column} (E_scr_pv=0)')\n",
    "    plt.legend()\n",
    "    plt.grid(True)\n",
    "    plt.show()"
   ]
  },
  {
   "cell_type": "markdown",
   "metadata": {},
   "source": [
    "### 위의 경우 k_rpm_pv가 모두 0이고, scale_pv값이 0 또는 600이상 값으로만 나옴 <hr>"
   ]
  },
  {
   "cell_type": "code",
   "execution_count": 18,
   "metadata": {},
   "outputs": [],
   "source": [
    "### scale_pv 값이 600 이상인 행은 기준이 되는 3과 너무 큰 차이가 나므로 측정 오류로 판단, 모두 삭제\n",
    "test_data = set_data[set_data['scale_pv'] < 600]"
   ]
  },
  {
   "cell_type": "markdown",
   "metadata": {},
   "source": [
    "### 남은 자료들에 대한 그래프 확인 <hr>"
   ]
  },
  {
   "cell_type": "code",
   "execution_count": 19,
   "metadata": {},
   "outputs": [],
   "source": [
    "### scale_pv 값이 4 이상인 행 또한 측정 오류로 판단, 모두 삭제\n",
    "test_data = test_data[test_data['scale_pv'] < 4]"
   ]
  },
  {
   "cell_type": "markdown",
   "metadata": {},
   "source": [
    "### c_temp_pv 값이 혼자 65.1인 날 E_scr_pv, k_rpm_pv, scale_pv값이 모두 0이므로 삭제<hr>"
   ]
  },
  {
   "cell_type": "code",
   "execution_count": 20,
   "metadata": {},
   "outputs": [],
   "source": [
    "### c_temp_pv 값이 68 미만인 행 삭제\n",
    "test_data = test_data[test_data['c_temp_pv'] >= 68]"
   ]
  },
  {
   "cell_type": "markdown",
   "metadata": {},
   "source": [
    "### 실제 칼날 회전수로 파악하는 방식 결정 <hr>"
   ]
  },
  {
   "cell_type": "code",
   "execution_count": 21,
   "metadata": {},
   "outputs": [],
   "source": [
    "# k_rpm_sv 컬럼 제거\n",
    "test_data = test_data.drop(columns=['k_rpm_sv'])"
   ]
  },
  {
   "cell_type": "code",
   "execution_count": 22,
   "metadata": {},
   "outputs": [
    {
     "name": "stdout",
     "output_type": "stream",
     "text": [
      "k_rpm_pv 값이 50 미만인 행:\n",
      "        E_scr_pv  c_temp_pv  k_rpm_pv  n_temp_pv  scale_pv  s_temp_pv\n",
      "205736         8       69.4        40       69.6       0.0       70.2\n",
      "207012         8       70.2         0       67.7       0.0       66.5\n",
      "207013         8       69.0        40       70.3       0.0       68.4\n",
      "207014         8       69.0        40       70.2       0.0       68.5\n",
      "207015         8       69.0        40       70.1       0.0       68.7\n"
     ]
    }
   ],
   "source": [
    "# k_rpm_pv 값이 50 미만인 행 필터링\n",
    "filtered_k_rpm_pv_data = test_data[test_data['k_rpm_pv'] < 50]\n",
    "\n",
    "# 필터링된 데이터 확인\n",
    "print(\"k_rpm_pv 값이 50 미만인 행:\")\n",
    "print(filtered_k_rpm_pv_data.head())"
   ]
  },
  {
   "cell_type": "markdown",
   "metadata": {},
   "source": [
    "### E_scr_pv값이 0인 모든 케이스가  k_rpm_sv값이 50미만에 포함, 해당 값들은 scale_pv도 대부분 0 이므로 삭제 <hr>"
   ]
  },
  {
   "cell_type": "markdown",
   "metadata": {},
   "source": [
    "### -> E_scr_pv 모두 8이라 의미가 없으므로 E_scr_pv 삭제 <hr>"
   ]
  },
  {
   "cell_type": "code",
   "execution_count": 23,
   "metadata": {},
   "outputs": [],
   "source": [
    "# E_scr_pv 컬럼 제거\n",
    "test_data = test_data.drop(columns=['E_scr_pv'])"
   ]
  },
  {
   "cell_type": "markdown",
   "metadata": {},
   "source": [
    "### 다음 절차로 k_rpm_pv값에 대한 접근 -> 50미만 값들은 타겟이 3g인 값들에 대한 k_rpm_sv값 차이가 커 오류로 판단 <hr>"
   ]
  },
  {
   "cell_type": "code",
   "execution_count": 24,
   "metadata": {},
   "outputs": [],
   "source": [
    "# scale_pv 값이 50 미만인 행 삭제\n",
    "test_data = test_data[test_data['k_rpm_pv'] >= 50]"
   ]
  },
  {
   "cell_type": "markdown",
   "metadata": {},
   "source": [
    "### 다음으로, scale_pv에 대한 접근 -> 고유값 우선 확인 <hr>"
   ]
  },
  {
   "cell_type": "code",
   "execution_count": 25,
   "metadata": {},
   "outputs": [
    {
     "name": "stdout",
     "output_type": "stream",
     "text": [
      "scale_pv 컬럼의 고유값:\n",
      "[0.   3.06 3.16 3.17 3.14 3.09 3.07 3.05 3.08 3.03 3.04 3.02 2.95 3.01\n",
      " 3.15 3.   2.99 2.97 3.1  3.18 3.11 2.96 3.13 2.85 2.98 3.28 3.12 3.19\n",
      " 3.27]\n"
     ]
    }
   ],
   "source": [
    "# scale_pv 컬럼의 고유값 확인\n",
    "unique_scale_pv_values = test_data['scale_pv'].unique()\n",
    "print(\"scale_pv 컬럼의 고유값:\")\n",
    "print(unique_scale_pv_values)"
   ]
  },
  {
   "cell_type": "code",
   "execution_count": 26,
   "metadata": {},
   "outputs": [
    {
     "name": "stdout",
     "output_type": "stream",
     "text": [
      "sclae_pv 컬럼의 고유값(오름차순):\n",
      "[0.   2.85 2.95 2.96 2.97 2.98 2.99 3.   3.01 3.02 3.03 3.04 3.05 3.06\n",
      " 3.07 3.08 3.09 3.1  3.11 3.12 3.13 3.14 3.15 3.16 3.17 3.18 3.19 3.27\n",
      " 3.28]\n"
     ]
    }
   ],
   "source": [
    "# 오름차순 정렬\n",
    "unique_scale_pv_values = np.sort(test_data['scale_pv'].unique())\n",
    "print('sclae_pv 컬럼의 고유값(오름차순):')\n",
    "print(unique_scale_pv_values)"
   ]
  },
  {
   "cell_type": "markdown",
   "metadata": {},
   "source": [
    "### scale_pv값이 0 인 경우 미측정, 나머지 0 초과 2 이하의 경우 측정오류로 판단, 제거 <hr>"
   ]
  },
  {
   "cell_type": "code",
   "execution_count": 27,
   "metadata": {},
   "outputs": [
    {
     "name": "stdout",
     "output_type": "stream",
     "text": [
      "scale_pv 값이 0 초과 2.5 미만인 행 삭제 후 데이터:\n",
      "        c_temp_pv  k_rpm_pv  n_temp_pv  scale_pv  s_temp_pv\n",
      "205737       69.4       180       69.5       0.0       70.3\n",
      "205738       69.4       179       69.4       0.0       70.4\n",
      "205739       69.5       176       69.4       0.0       70.6\n",
      "205740       69.4       173       69.6       0.0       70.7\n",
      "205741       69.5       173       69.4       0.0       70.8\n"
     ]
    }
   ],
   "source": [
    "# scale_pv 값이 0 초과 2 이하인 행 삭제\n",
    "test_data = test_data[(test_data['scale_pv'] == 0) | (test_data['scale_pv'] > 2)]\n",
    "\n",
    "# 필터링된 데이터 확인\n",
    "print(\"scale_pv 값이 0 초과 2.5 미만인 행 삭제 후 데이터:\")\n",
    "print(test_data.head())"
   ]
  },
  {
   "cell_type": "code",
   "execution_count": 28,
   "metadata": {},
   "outputs": [
    {
     "data": {
      "text/html": [
       "<div>\n",
       "<style scoped>\n",
       "    .dataframe tbody tr th:only-of-type {\n",
       "        vertical-align: middle;\n",
       "    }\n",
       "\n",
       "    .dataframe tbody tr th {\n",
       "        vertical-align: top;\n",
       "    }\n",
       "\n",
       "    .dataframe thead th {\n",
       "        text-align: right;\n",
       "    }\n",
       "</style>\n",
       "<table border=\"1\" class=\"dataframe\">\n",
       "  <thead>\n",
       "    <tr style=\"text-align: right;\">\n",
       "      <th></th>\n",
       "      <th>c_temp_pv</th>\n",
       "      <th>k_rpm_pv</th>\n",
       "      <th>n_temp_pv</th>\n",
       "      <th>scale_pv</th>\n",
       "      <th>s_temp_pv</th>\n",
       "    </tr>\n",
       "  </thead>\n",
       "  <tbody>\n",
       "  </tbody>\n",
       "</table>\n",
       "</div>"
      ],
      "text/plain": [
       "Empty DataFrame\n",
       "Columns: [c_temp_pv, k_rpm_pv, n_temp_pv, scale_pv, s_temp_pv]\n",
       "Index: []"
      ]
     },
     "execution_count": 28,
     "metadata": {},
     "output_type": "execute_result"
    }
   ],
   "source": [
    "over_s_temp_pv = test_data[test_data['s_temp_pv'] > 72]\n",
    "over_s_temp_pv"
   ]
  },
  {
   "cell_type": "code",
   "execution_count": 29,
   "metadata": {},
   "outputs": [],
   "source": [
    "# CSV 파일로 저장\n",
    "output_file = '../data_final/Test_data.csv'\n",
    "test_data.to_csv(output_file, index=False)"
   ]
  }
 ],
 "metadata": {
  "kernelspec": {
   "display_name": "Torch_NLP38",
   "language": "python",
   "name": "python3"
  },
  "language_info": {
   "codemirror_mode": {
    "name": "ipython",
    "version": 3
   },
   "file_extension": ".py",
   "mimetype": "text/x-python",
   "name": "python",
   "nbconvert_exporter": "python",
   "pygments_lexer": "ipython3",
   "version": "3.8.19"
  }
 },
 "nbformat": 4,
 "nbformat_minor": 2
}

{
 "cells": [
  {
   "cell_type": "code",
   "execution_count": 59,
   "metadata": {},
   "outputs": [],
   "source": [
    "import pandas as pd\n",
    "import numpy as np\n",
    "\n",
    "# 데이터 로드\n",
    "file = '../data/바웰공정데이터.csv'\n",
    "data = pd.read_csv(file)"
   ]
  },
  {
   "cell_type": "code",
   "execution_count": 60,
   "metadata": {},
   "outputs": [
    {
     "name": "stdout",
     "output_type": "stream",
     "text": [
      "<class 'pandas.core.frame.DataFrame'>\n",
      "RangeIndex: 143091 entries, 0 to 143090\n",
      "Data columns (total 12 columns):\n",
      " #   Column     Non-Null Count   Dtype  \n",
      "---  ------     --------------   -----  \n",
      " 0   time       143091 non-null  object \n",
      " 1   E_scr_pv   143091 non-null  int64  \n",
      " 2   E_scr_sv   143091 non-null  int64  \n",
      " 3   c_temp_pv  143091 non-null  float64\n",
      " 4   c_temp_sv  143091 non-null  int64  \n",
      " 5   k_rpm_pv   143091 non-null  int64  \n",
      " 6   k_rpm_sv   143091 non-null  int64  \n",
      " 7   n_temp_pv  143091 non-null  float64\n",
      " 8   n_temp_sv  143091 non-null  int64  \n",
      " 9   scale_pv   143091 non-null  float64\n",
      " 10  s_temp_pv  143091 non-null  float64\n",
      " 11  s_temp_sv  143091 non-null  int64  \n",
      "dtypes: float64(4), int64(7), object(1)\n",
      "memory usage: 13.1+ MB\n",
      "None\n",
      "                          time  E_scr_pv  E_scr_sv  c_temp_pv  c_temp_sv  \\\n",
      "0  2023-05-18T15:09:19.018900Z         8         8       69.6         70   \n",
      "1  2023-05-18T15:09:20.128150Z         8         8       69.8         70   \n",
      "2  2023-05-18T15:12:38.819460Z         8         8       69.7         70   \n",
      "3  2023-05-18T15:12:39.958188Z         8         8       69.7         70   \n",
      "4  2023-05-18T15:12:41.050178Z         8         8       69.7         70   \n",
      "\n",
      "   k_rpm_pv  k_rpm_sv  n_temp_pv  n_temp_sv  scale_pv  s_temp_pv  s_temp_sv  \n",
      "0       189       180       67.2         70      3.01       67.1         70  \n",
      "1       189       180       67.2         70      3.01       67.0         70  \n",
      "2       189       180       67.9         70      3.08       65.9         70  \n",
      "3       189       180       67.8         70      3.08       65.9         70  \n",
      "4       189       180       67.8         70      3.08       65.9         70  \n"
     ]
    }
   ],
   "source": [
    "# 데이터 구조 확인\n",
    "print(data.info())\n",
    "print(data.head())"
   ]
  },
  {
   "cell_type": "code",
   "execution_count": 61,
   "metadata": {},
   "outputs": [
    {
     "name": "stdout",
     "output_type": "stream",
     "text": [
      "E_scr_sv 컬럼의 고유 값: [ 8  7 12]\n",
      "\n",
      "E_scr_sv 컬럼의 값별 빈도수:\n",
      " 8     142517\n",
      "7        526\n",
      "12        48\n",
      "Name: E_scr_sv, dtype: int64\n"
     ]
    }
   ],
   "source": [
    "# E_scr_sv 컬럼의 고유 값 확인\n",
    "unique_values = data['E_scr_sv'].unique()\n",
    "print(\"E_scr_sv 컬럼의 고유 값:\", unique_values)\n",
    "# E_scr_sv 컬럼의 값별 빈도수 확인\n",
    "value_counts = data['E_scr_sv'].value_counts()\n",
    "print(\"\\nE_scr_sv 컬럼의 값별 빈도수:\\n\", value_counts)"
   ]
  },
  {
   "cell_type": "code",
   "execution_count": 62,
   "metadata": {},
   "outputs": [
    {
     "name": "stdout",
     "output_type": "stream",
     "text": [
      "E_scr_pv 컬럼의 고유 값: [ 8  7  0 12]\n",
      "\n",
      "E_scr_pv 컬럼의 값별 빈도수:\n",
      " 8     139352\n",
      "0       3165\n",
      "7        526\n",
      "12        48\n",
      "Name: E_scr_pv, dtype: int64\n"
     ]
    }
   ],
   "source": [
    "# E_scr_pv 컬럼의 고유 값 확인\n",
    "unique_values = data['E_scr_pv'].unique()\n",
    "print(\"E_scr_pv 컬럼의 고유 값:\", unique_values)\n",
    "# E_scr_pv 컬럼의 값별 빈도수 확인\n",
    "value_counts = data['E_scr_pv'].value_counts()\n",
    "print(\"\\nE_scr_pv 컬럼의 값별 빈도수:\\n\", value_counts)"
   ]
  },
  {
   "cell_type": "code",
   "execution_count": 63,
   "metadata": {},
   "outputs": [
    {
     "name": "stdout",
     "output_type": "stream",
     "text": [
      "c_temp_sv 컬럼의 고유 값: [70]\n",
      "\n",
      "c_temp_sv 컬럼의 값별 빈도수:\n",
      " 70    143091\n",
      "Name: c_temp_sv, dtype: int64\n"
     ]
    }
   ],
   "source": [
    "# c_temp_sv 컬럼의 고유 값 확인\n",
    "unique_values = data['c_temp_sv'].unique()\n",
    "print(\"c_temp_sv 컬럼의 고유 값:\", unique_values)\n",
    "# c_temp_sv 컬럼의 값별 빈도수 확인\n",
    "value_counts = data['c_temp_sv'].value_counts()\n",
    "print(\"\\nc_temp_sv 컬럼의 값별 빈도수:\\n\", value_counts)"
   ]
  },
  {
   "cell_type": "code",
   "execution_count": 64,
   "metadata": {},
   "outputs": [
    {
     "name": "stdout",
     "output_type": "stream",
     "text": [
      "c_temp_pv 컬럼의 고유 값 (오름차순): [65.1 68.  68.8 68.9 69.  69.1 69.2 69.3 69.4 69.5 69.6 69.7 69.8 69.9\n",
      " 70.  70.1 70.2 70.3 70.4 70.5 70.6 70.7 70.8 70.9 71.  71.1 71.2 71.3\n",
      " 71.4 71.5 71.6 71.7 71.8 71.9 72.7 72.8]\n",
      "\n",
      "c_temp_pv 컬럼의 값별 빈도수:\n",
      " 70.3    16798\n",
      "70.4    15020\n",
      "70.5    14407\n",
      "70.2    13748\n",
      "70.6    10061\n",
      "70.1     9958\n",
      "70.8     6750\n",
      "70.7     6595\n",
      "70.0     6415\n",
      "70.9     6193\n",
      "69.9     5846\n",
      "71.0     5424\n",
      "71.2     4956\n",
      "71.1     4776\n",
      "69.8     3462\n",
      "71.3     3150\n",
      "69.7     2369\n",
      "69.5     1402\n",
      "69.6     1374\n",
      "71.4     1362\n",
      "69.4      765\n",
      "71.5      461\n",
      "71.6      392\n",
      "69.3      376\n",
      "71.7      366\n",
      "69.2      298\n",
      "71.8      146\n",
      "69.1       92\n",
      "69.0       82\n",
      "68.9       15\n",
      "71.9       11\n",
      "72.7       10\n",
      "68.8        5\n",
      "72.8        4\n",
      "65.1        1\n",
      "68.0        1\n",
      "Name: c_temp_pv, dtype: int64\n"
     ]
    }
   ],
   "source": [
    "# c_temp_pv 컬럼의 고유 값 확인 및 오름차순 정렬\n",
    "unique_values = np.sort(data['c_temp_pv'].unique())\n",
    "print(\"c_temp_pv 컬럼의 고유 값 (오름차순):\", unique_values)\n",
    "# c_temp_pv 컬럼의 값별 빈도수 확인\n",
    "value_counts = data['c_temp_pv'].value_counts()\n",
    "print(\"\\nc_temp_pv 컬럼의 값별 빈도수:\\n\", value_counts)"
   ]
  },
  {
   "cell_type": "code",
   "execution_count": 65,
   "metadata": {},
   "outputs": [
    {
     "name": "stdout",
     "output_type": "stream",
     "text": [
      "k_rpm_sv 컬럼의 고유 값: [180 170 150 130]\n",
      "\n",
      "k_rpm_sv 컬럼의 값별 빈도수:\n",
      " 180    112731\n",
      "150     28162\n",
      "170      2150\n",
      "130        48\n",
      "Name: k_rpm_sv, dtype: int64\n"
     ]
    }
   ],
   "source": [
    "# k_rpm_sv 컬럼의 고유 값 확인\n",
    "unique_values = data['k_rpm_sv'].unique()\n",
    "print(\"k_rpm_sv 컬럼의 고유 값:\", unique_values)\n",
    "# k_rpm_sv 컬럼의 값별 빈도수 확인\n",
    "value_counts = data['k_rpm_sv'].value_counts()\n",
    "print(\"\\nk_rpm_sv 컬럼의 값별 빈도수:\\n\", value_counts)"
   ]
  },
  {
   "cell_type": "code",
   "execution_count": 66,
   "metadata": {},
   "outputs": [
    {
     "name": "stdout",
     "output_type": "stream",
     "text": [
      "k_rpm_pv 컬럼의 고유 값: [  0  39  40 117 118 119 120 122 123 124 125 126 127 129 130 131 132 133\n",
      " 134 135 136 137 138 139 140 141 142 143 144 145 146 147 148 149 150 151\n",
      " 152 153 154 155 156 157 158 159 160 161 162 163 164 165 166 167 168 169\n",
      " 170 171 172 173 174 175 176 177 178 179 180 181 182 183 184 185 186 187\n",
      " 188 189 190 191 192 193 194 195 196 198]\n",
      "\n",
      "k_rpm_pv 컬럼의 값별 빈도수:\n",
      " 177    13225\n",
      "176    13086\n",
      "174    12700\n",
      "178     9134\n",
      "179     8792\n",
      "       ...  \n",
      "117        1\n",
      "120        1\n",
      "133        1\n",
      "39         1\n",
      "130        1\n",
      "Name: k_rpm_pv, Length: 82, dtype: int64\n"
     ]
    }
   ],
   "source": [
    "# k_rpm_pv 컬럼의 고유 값 확인\n",
    "unique_values = np.sort(data['k_rpm_pv'].unique())\n",
    "print(\"k_rpm_pv 컬럼의 고유 값:\", unique_values)\n",
    "# k_rpm_pv 컬럼의 값별 빈도수 확인\n",
    "value_counts = data['k_rpm_pv'].value_counts()\n",
    "print(\"\\nk_rpm_pv 컬럼의 값별 빈도수:\\n\", value_counts)"
   ]
  },
  {
   "cell_type": "code",
   "execution_count": 99,
   "metadata": {},
   "outputs": [
    {
     "name": "stdout",
     "output_type": "stream",
     "text": [
      "\n",
      "k_rpm_pv 컬럼의 값별 빈도수:\n",
      " 177    13225\n",
      "176    13086\n",
      "174    12700\n",
      "178     9134\n",
      "179     8792\n",
      "175     7953\n",
      "181     6821\n",
      "186     5774\n",
      "188     5681\n",
      "182     5642\n",
      "180     5521\n",
      "189     4837\n",
      "183     4563\n",
      "184     3647\n",
      "172     3380\n",
      "187     3284\n",
      "0       3165\n",
      "185     3063\n",
      "Name: k_rpm_pv, dtype: int64\n"
     ]
    }
   ],
   "source": [
    "# k_rpm_pv 컬럼의 값별 빈도수 확인\n",
    "value_counts = data['k_rpm_pv'].value_counts()\n",
    "print(\"\\nk_rpm_pv 컬럼의 값별 빈도수:\\n\", value_counts.head(18))"
   ]
  },
  {
   "cell_type": "code",
   "execution_count": 68,
   "metadata": {},
   "outputs": [
    {
     "name": "stdout",
     "output_type": "stream",
     "text": [
      "n_temp_sv 컬럼의 고유 값: [70  0]\n",
      "\n",
      "n_temp_sv 컬럼의 값별 빈도수:\n",
      " 70    143043\n",
      "0         48\n",
      "Name: n_temp_sv, dtype: int64\n"
     ]
    }
   ],
   "source": [
    "# n_temp_sv 컬럼의 고유 값 확인\n",
    "unique_values = data['n_temp_sv'].unique()\n",
    "print(\"n_temp_sv 컬럼의 고유 값:\", unique_values)\n",
    "# n_temp_sv 컬럼의 값별 빈도수 확인\n",
    "value_counts = data['n_temp_sv'].value_counts()\n",
    "print(\"\\nn_temp_sv 컬럼의 값별 빈도수:\\n\", value_counts)"
   ]
  },
  {
   "cell_type": "code",
   "execution_count": 69,
   "metadata": {},
   "outputs": [
    {
     "name": "stdout",
     "output_type": "stream",
     "text": [
      "n_temp_pv 컬럼의 고유 값: [57.7 57.8 57.9 58.  58.7 58.8 59.1 59.2 64.2 64.3 64.7 64.8 65.7 65.8\n",
      " 66.  66.1 66.2 66.3 66.4 66.5 66.6 66.7 66.8 66.9 67.  67.1 67.2 67.3\n",
      " 67.4 67.5 67.6 67.7 67.8 67.9 68.  68.1 68.2 68.3 68.4 68.5 68.6 68.7\n",
      " 68.8 68.9 69.  69.1 69.2 69.3 69.4 69.5 69.6 69.7 69.8 69.9 70.  70.1\n",
      " 70.2 70.3 70.4 70.5 70.6 70.7 70.8 70.9 71.  71.1 71.2]\n",
      "\n",
      "n_temp_pv 컬럼의 값별 빈도수:\n",
      " 67.0    8948\n",
      "67.2    8746\n",
      "67.1    8620\n",
      "66.9    7801\n",
      "67.3    7669\n",
      "        ... \n",
      "58.7       2\n",
      "64.7       1\n",
      "64.2       1\n",
      "58.8       1\n",
      "71.2       1\n",
      "Name: n_temp_pv, Length: 67, dtype: int64\n"
     ]
    }
   ],
   "source": [
    "# n_temp_pv 컬럼의 고유 값 확인\n",
    "unique_values = np.sort(data['n_temp_pv'].unique())\n",
    "print(\"n_temp_pv 컬럼의 고유 값:\", unique_values)\n",
    "# n_temp_pv 컬럼의 값별 빈도수 확인\n",
    "value_counts = data['n_temp_pv'].value_counts()\n",
    "print(\"\\nn_temp_pv 컬럼의 값별 빈도수:\\n\", value_counts)"
   ]
  },
  {
   "cell_type": "code",
   "execution_count": 70,
   "metadata": {},
   "outputs": [
    {
     "name": "stdout",
     "output_type": "stream",
     "text": [
      "\n",
      "n_temp_pv 컬럼의 값별 빈도수:\n",
      " 67.0    8948\n",
      "67.2    8746\n",
      "67.1    8620\n",
      "66.9    7801\n",
      "67.3    7669\n",
      "67.4    6913\n",
      "66.8    6746\n",
      "67.5    6266\n",
      "67.6    5289\n",
      "66.7    5115\n",
      "Name: n_temp_pv, dtype: int64\n"
     ]
    }
   ],
   "source": [
    "# n_temp_pv 컬럼의 값별 빈도수 확인\n",
    "value_counts = data['n_temp_pv'].value_counts()\n",
    "print(\"\\nn_temp_pv 컬럼의 값별 빈도수:\\n\", value_counts.head(10))"
   ]
  },
  {
   "cell_type": "code",
   "execution_count": 71,
   "metadata": {},
   "outputs": [
    {
     "name": "stdout",
     "output_type": "stream",
     "text": [
      "\n",
      "n_temp_pv 컬럼의 값별 빈도수:\n",
      " 57.7      3\n",
      "57.8      6\n",
      "57.9     12\n",
      "58.0      5\n",
      "58.7      2\n",
      "       ... \n",
      "70.8    400\n",
      "70.9    167\n",
      "71.0     54\n",
      "71.1     19\n",
      "71.2      1\n",
      "Name: n_temp_pv, Length: 67, dtype: int64\n"
     ]
    }
   ],
   "source": [
    "# n_temp_pv 컬럼의 값별 빈도수 확인 및 오름차순 정렬\n",
    "value_counts = data['n_temp_pv'].value_counts().sort_index()\n",
    "print(\"\\nn_temp_pv 컬럼의 값별 빈도수:\\n\", value_counts)"
   ]
  },
  {
   "cell_type": "code",
   "execution_count": 72,
   "metadata": {},
   "outputs": [
    {
     "name": "stdout",
     "output_type": "stream",
     "text": [
      "      n_temp_pv\n",
      "7393       64.8\n",
      "7394       64.8\n",
      "7395       64.7\n",
      "7396       64.8\n",
      "7397       64.3\n",
      "7398       64.3\n",
      "7399       64.3\n",
      "7400       64.3\n",
      "7401       64.3\n",
      "7402       64.3\n",
      "7403       64.3\n",
      "7404       64.3\n",
      "7405       64.2\n",
      "7406       64.3\n",
      "7407       59.2\n",
      "7408       59.1\n",
      "7409       59.2\n",
      "7410       59.1\n",
      "7411       59.1\n",
      "7412       58.8\n",
      "7413       58.7\n",
      "7414       58.7\n",
      "7415       57.9\n",
      "7416       57.9\n",
      "7417       58.0\n",
      "7418       58.0\n",
      "7419       57.9\n",
      "7420       58.0\n",
      "7421       57.9\n",
      "7422       57.9\n",
      "7423       58.0\n",
      "7424       57.9\n",
      "7425       57.9\n",
      "7426       57.9\n",
      "7427       57.9\n",
      "7428       57.9\n",
      "7429       57.8\n",
      "7430       57.8\n",
      "7431       57.8\n",
      "7432       57.9\n",
      "7433       57.9\n",
      "7434       57.8\n",
      "7435       57.8\n",
      "7436       58.0\n",
      "7437       57.7\n",
      "7438       57.7\n",
      "7439       57.8\n",
      "7440       57.7\n"
     ]
    }
   ],
   "source": [
    "# n_temp_sv 값이 0인 행 필터링 후 특정 컬럼 선택\n",
    "n_temp_sv_zero_selected = data[data['n_temp_sv'] == 0][['n_temp_pv']]\n",
    "\n",
    "# 결과 출력\n",
    "print(n_temp_sv_zero_selected)"
   ]
  },
  {
   "cell_type": "code",
   "execution_count": 73,
   "metadata": {},
   "outputs": [
    {
     "name": "stdout",
     "output_type": "stream",
     "text": [
      "      scale_pv\n",
      "7393      4.00\n",
      "7394      4.00\n",
      "7395      4.00\n",
      "7396      4.00\n",
      "7397      4.03\n",
      "7398      4.03\n",
      "7399      4.03\n",
      "7400      4.03\n",
      "7401      4.04\n",
      "7402      4.04\n",
      "7403      4.04\n",
      "7404      4.04\n",
      "7405      4.04\n",
      "7406      4.04\n",
      "7407      3.59\n",
      "7408      3.59\n",
      "7409      3.59\n",
      "7410      3.59\n",
      "7411      3.59\n",
      "7412      4.07\n",
      "7413      4.07\n",
      "7414      4.07\n",
      "7415      4.04\n",
      "7416      4.04\n",
      "7417      4.04\n",
      "7418      4.04\n",
      "7419      4.04\n",
      "7420      4.04\n",
      "7421      4.04\n",
      "7422      4.04\n",
      "7423      4.04\n",
      "7424      4.04\n",
      "7425      4.04\n",
      "7426      4.04\n",
      "7427      4.04\n",
      "7428      3.85\n",
      "7429      3.85\n",
      "7430      3.85\n",
      "7431      3.85\n",
      "7432      3.85\n",
      "7433      3.85\n",
      "7434      3.85\n",
      "7435      3.84\n",
      "7436      3.84\n",
      "7437      3.84\n",
      "7438      3.84\n",
      "7439      3.84\n",
      "7440      3.84\n"
     ]
    }
   ],
   "source": [
    "# n_temp_sv 값이 0인 행 필터링 후 특정 컬럼 선택\n",
    "n_temp_sv_zero_selected = data[data['n_temp_sv'] == 0][['scale_pv']]\n",
    "\n",
    "# 결과 출력\n",
    "print(n_temp_sv_zero_selected)"
   ]
  },
  {
   "cell_type": "code",
   "execution_count": 74,
   "metadata": {},
   "outputs": [
    {
     "name": "stdout",
     "output_type": "stream",
     "text": [
      "s_temp_sv 컬럼의 고유 값: [70]\n",
      "\n",
      "s_temp_sv 컬럼의 값별 빈도수:\n",
      " 70    143091\n",
      "Name: s_temp_sv, dtype: int64\n"
     ]
    }
   ],
   "source": [
    "# s_temp_sv 컬럼의 고유 값 확인\n",
    "unique_values = data['s_temp_sv'].unique()\n",
    "print(\"s_temp_sv 컬럼의 고유 값:\", unique_values)\n",
    "# s_temp_sv 컬럼의 값별 빈도수 확인\n",
    "value_counts = data['s_temp_sv'].value_counts()\n",
    "print(\"\\ns_temp_sv 컬럼의 값별 빈도수:\\n\", value_counts)"
   ]
  },
  {
   "cell_type": "code",
   "execution_count": 75,
   "metadata": {},
   "outputs": [
    {
     "name": "stdout",
     "output_type": "stream",
     "text": [
      "s_temp_pv 컬럼의 고유 값: [65.5 65.6 65.7 65.8 65.9 66.  66.1 66.2 66.3 66.4 66.5 66.6 66.7 66.8\n",
      " 66.9 67.  67.1 67.2 67.3 67.4 67.5 67.6 67.7 67.8 67.9 68.  68.1 68.2\n",
      " 68.3 68.4 68.5 68.6 68.7 68.8 68.9 69.  69.1 69.2 69.3 69.4 69.5 69.6\n",
      " 69.7 69.8 69.9 70.  70.1 70.2 70.3 70.4 70.5 70.6 70.7 70.8 70.9 71.\n",
      " 71.1 71.2 71.3 71.4 71.5 72.4]\n",
      "\n",
      "s_temp_pv 컬럼의 값별 빈도수:\n",
      " 68.3    5873\n",
      "66.2    5419\n",
      "68.2    5228\n",
      "68.4    5162\n",
      "66.3    5153\n",
      "        ... \n",
      "65.6     122\n",
      "71.4      26\n",
      "65.5      23\n",
      "71.5       9\n",
      "72.4       1\n",
      "Name: s_temp_pv, Length: 62, dtype: int64\n"
     ]
    }
   ],
   "source": [
    "# s_temp_pv 컬럼의 고유 값 확인\n",
    "unique_values = np.sort(data['s_temp_pv'].unique())\n",
    "print(\"s_temp_pv 컬럼의 고유 값:\", unique_values)\n",
    "# s_temp_pv 컬럼의 값별 빈도수 확인\n",
    "value_counts = data['s_temp_pv'].value_counts()\n",
    "print(\"\\ns_temp_pv 컬럼의 값별 빈도수:\\n\", value_counts)"
   ]
  },
  {
   "cell_type": "code",
   "execution_count": 76,
   "metadata": {},
   "outputs": [
    {
     "name": "stdout",
     "output_type": "stream",
     "text": [
      "65-65.9     3966\n",
      "66-66.9    42705\n",
      "67-67.9    35037\n",
      "68-68.9    36030\n",
      "69-69.9    13499\n",
      "70-70.9     9457\n",
      "71-71.9     2396\n",
      "72-72.4        1\n",
      "Name: s_temp_pv_range, dtype: int64\n"
     ]
    }
   ],
   "source": [
    "# s_temp_pv 컬럼의 범위 설정\n",
    "bins = [65, 66, 67, 68, 69, 70, 71, 72, 73]\n",
    "labels = ['65-65.9', '66-66.9', '67-67.9', '68-68.9', '69-69.9', '70-70.9', '71-71.9', '72-72.4']\n",
    "\n",
    "# pd.cut을 사용하여 범위 나누기\n",
    "data['s_temp_pv_range'] = pd.cut(data['s_temp_pv'], bins=bins, labels=labels, include_lowest=True, right=False)\n",
    "\n",
    "# 각 범위별 빈도수 확인\n",
    "range_counts = data['s_temp_pv_range'].value_counts().sort_index()\n",
    "print(range_counts)"
   ]
  },
  {
   "cell_type": "code",
   "execution_count": 77,
   "metadata": {},
   "outputs": [
    {
     "name": "stdout",
     "output_type": "stream",
     "text": [
      "scale_pv 컬럼의 고유 값: [3.0100e+00 3.0800e+00 3.0200e+00 3.0400e+00 3.0300e+00 3.0600e+00\n",
      " 3.0500e+00 9.1700e+00 9.1800e+00 3.0700e+00 3.0900e+00 3.1900e+00\n",
      " 2.9700e+00 3.1200e+00 2.9600e+00 3.1100e+00 2.9500e+00 2.9900e+00\n",
      " 3.1600e+00 3.0000e+00 2.9800e+00 1.0000e-01 1.5100e+01 1.5300e+01\n",
      " 3.1000e+00 2.9100e+00 3.1300e+00 1.2000e-01 2.8900e+00 3.2500e+00\n",
      " 3.4300e+00 3.3500e+00 3.1400e+00 2.5600e+00 2.5700e+00 3.1500e+00\n",
      " 1.3000e-01 3.1700e+00 3.2100e+00 3.2400e+00 2.0000e+00 3.3400e+00\n",
      " 3.2900e+00 3.2200e+00 3.2300e+00 3.2000e+00 1.1000e-01 1.6000e-01\n",
      " 1.5000e-01 1.7000e-01 1.8000e-01 1.9000e-01 2.0000e-01 2.3000e-01\n",
      " 2.2000e-01 2.1000e-01 8.5000e-01 2.9400e+00 2.8200e+00 3.2700e+00\n",
      " 2.7600e+00 2.7700e+00 2.7800e+00 2.7500e+00 2.9300e+00 2.9200e+00\n",
      " 3.4100e+00 2.8300e+00 3.1800e+00 9.9000e-01 9.8000e-01 1.3400e+00\n",
      " 1.3300e+00 4.0000e+00 4.0300e+00 4.0400e+00 3.5900e+00 4.0700e+00\n",
      " 3.8500e+00 3.8400e+00 0.0000e+00 6.5535e+02 1.0000e-02 6.5534e+02\n",
      " 6.5533e+02 6.5526e+02 6.5532e+02 6.5531e+02 2.0000e-02 3.0000e-02\n",
      " 5.0000e-02 6.0000e-02 4.0000e-02 7.0000e-02 8.0000e-02 6.5528e+02\n",
      " 6.5530e+02 6.5504e+02 6.5529e+02 6.5527e+02 6.5525e+02 6.5522e+02\n",
      " 6.5523e+02 6.5524e+02 6.5520e+02 6.5519e+02 6.5521e+02 2.6900e+00\n",
      " 3.9000e-01 2.8500e+00 2.8000e+00 2.7300e+00 2.7400e+00 2.9000e+00\n",
      " 3.2600e+00 3.3700e+00 3.4900e+00 2.7200e+00 8.2000e-01 2.8600e+00\n",
      " 2.7100e+00 2.8700e+00 2.8800e+00 2.7900e+00 2.8100e+00 2.8400e+00]\n",
      "\n",
      "scale_pv 컬럼의 값별 빈도수:\n",
      " 0.00      111208\n",
      "3.04        3680\n",
      "3.05        3589\n",
      "3.03        3370\n",
      "3.06        2810\n",
      "           ...  \n",
      "0.99           2\n",
      "2.84           2\n",
      "2.00           1\n",
      "655.04         1\n",
      "0.85           1\n",
      "Name: scale_pv, Length: 126, dtype: int64\n"
     ]
    }
   ],
   "source": [
    "# scale_pv 컬럼의 고유 값 확인\n",
    "unique_values = data['scale_pv'].unique()\n",
    "print(\"scale_pv 컬럼의 고유 값:\", unique_values)\n",
    "# scale_pv 컬럼의 값별 빈도수 확인\n",
    "value_counts = data['scale_pv'].value_counts()\n",
    "print(\"\\nscale_pv 컬럼의 값별 빈도수:\\n\", value_counts)"
   ]
  },
  {
   "cell_type": "code",
   "execution_count": 78,
   "metadata": {},
   "outputs": [
    {
     "name": "stdout",
     "output_type": "stream",
     "text": [
      "\n",
      "scale_pv 컬럼의 값별 빈도수:\n",
      " 0.00      111208\n",
      "0.01         221\n",
      "0.02         291\n",
      "0.03         163\n",
      "0.04          55\n",
      "           ...  \n",
      "655.31       117\n",
      "655.32        91\n",
      "655.33       102\n",
      "655.34       149\n",
      "655.35       242\n",
      "Name: scale_pv, Length: 126, dtype: int64\n"
     ]
    }
   ],
   "source": [
    "# scale_pv 컬럼의 값별 빈도수 확인\n",
    "value_counts = data['scale_pv'].value_counts().sort_index()\n",
    "print(\"\\nscale_pv 컬럼의 값별 빈도수:\\n\", value_counts)"
   ]
  },
  {
   "cell_type": "markdown",
   "metadata": {},
   "source": [
    "기본 필터링 값 이후 진행"
   ]
  },
  {
   "cell_type": "code",
   "execution_count": 79,
   "metadata": {},
   "outputs": [],
   "source": [
    "# 조건에 맞는 데이터 필터링\n",
    "filtered_data = data[\n",
    "    (data['E_scr_pv'] == 8) &\n",
    "    (data['c_temp_pv'] >= 70) & (data['c_temp_pv'] < 71) &\n",
    "    (data['k_rpm_pv'] >= 174) & (data['k_rpm_pv'] <= 179) &\n",
    "    (data['n_temp_pv'] >= 66.7) & (data['n_temp_pv'] <= 67.6) &\n",
    "    (data['s_temp_pv'] >= 66) & (data['s_temp_pv'] <= 67.9) &\n",
    "    (data['scale_pv'] >= 2.0) & (data['scale_pv'] <= 4.0)\n",
    "]"
   ]
  },
  {
   "cell_type": "code",
   "execution_count": 82,
   "metadata": {},
   "outputs": [],
   "source": [
    "# 모든 sv 값 컬럼 제거\n",
    "sv_columns = [col for col in filtered_data.columns if 'sv' in col]\n",
    "filtered_data = filtered_data.drop(columns=sv_columns)\n",
    "# time 컬럼 제거\n",
    "filtered_data = filtered_data.drop(columns=['time'])"
   ]
  },
  {
   "cell_type": "code",
   "execution_count": 83,
   "metadata": {},
   "outputs": [
    {
     "name": "stdout",
     "output_type": "stream",
     "text": [
      "   E_scr_pv  c_temp_pv  k_rpm_pv  n_temp_pv  scale_pv  s_temp_pv  \\\n",
      "0         8       70.5       178       67.2      3.11       66.6   \n",
      "1         8       70.5       178       67.2      3.11       66.5   \n",
      "2         8       70.5       179       67.3      3.11       66.6   \n",
      "3         8       70.5       179       67.3      3.16       66.7   \n",
      "4         8       70.6       179       67.3      3.16       66.7   \n",
      "\n",
      "  s_temp_pv_range  \n",
      "0         66-66.9  \n",
      "1         66-66.9  \n",
      "2         66-66.9  \n",
      "3         66-66.9  \n",
      "4         66-66.9  \n",
      "<class 'pandas.core.frame.DataFrame'>\n",
      "RangeIndex: 4152 entries, 0 to 4151\n",
      "Data columns (total 7 columns):\n",
      " #   Column           Non-Null Count  Dtype   \n",
      "---  ------           --------------  -----   \n",
      " 0   E_scr_pv         4152 non-null   int64   \n",
      " 1   c_temp_pv        4152 non-null   float64 \n",
      " 2   k_rpm_pv         4152 non-null   int64   \n",
      " 3   n_temp_pv        4152 non-null   float64 \n",
      " 4   scale_pv         4152 non-null   float64 \n",
      " 5   s_temp_pv        4152 non-null   float64 \n",
      " 6   s_temp_pv_range  4152 non-null   category\n",
      "dtypes: category(1), float64(4), int64(2)\n",
      "memory usage: 199.2 KB\n",
      "None\n"
     ]
    }
   ],
   "source": [
    "# 새로운 DataFrame 생성\n",
    "new_df = filtered_data.reset_index(drop=True)\n",
    "\n",
    "# 결과 확인\n",
    "print(new_df.head())\n",
    "print(new_df.info())"
   ]
  },
  {
   "cell_type": "code",
   "execution_count": 86,
   "metadata": {},
   "outputs": [
    {
     "name": "stdout",
     "output_type": "stream",
     "text": [
      "훈련 세트 크기: (3321, 13), 테스트 세트 크기: (831, 13)\n"
     ]
    }
   ],
   "source": [
    "from sklearn.model_selection import train_test_split\n",
    "\n",
    "# 범주형 변수를 더미 변수로 변환\n",
    "new_df = pd.get_dummies(new_df, columns=['s_temp_pv_range'])\n",
    "\n",
    "# 독립 변수와 종속 변수 분리\n",
    "X = new_df.drop(columns=['scale_pv'])\n",
    "y = new_df['scale_pv']\n",
    "\n",
    "# 훈련 세트와 테스트 세트로 분할\n",
    "X_train, X_test, y_train, y_test = train_test_split(X, y, test_size=0.2, random_state=42)\n",
    "\n",
    "print(f'훈련 세트 크기: {X_train.shape}, 테스트 세트 크기: {X_test.shape}')"
   ]
  },
  {
   "cell_type": "code",
   "execution_count": 95,
   "metadata": {},
   "outputs": [
    {
     "name": "stdout",
     "output_type": "stream",
     "text": [
      "Multiple Regression - 훈련 세트 MAE: 0.025368252001439617, 테스트 세트 MAE: 0.025340116016077836\n",
      "Multiple Regression - 훈련 세트 MAPE: 0.8359018396107445%, 테스트 세트 MAPE: 0.8354456190116498%\n"
     ]
    }
   ],
   "source": [
    "from sklearn.linear_model import LinearRegression\n",
    "from sklearn.metrics import mean_absolute_error, mean_absolute_percentage_error\n",
    "\n",
    "# 모델 생성\n",
    "lr_model = LinearRegression()\n",
    "\n",
    "# 모델 학습\n",
    "lr_model.fit(X_train, y_train)\n",
    "\n",
    "# 예측\n",
    "y_pred_train = lr_model.predict(X_train)\n",
    "y_pred_test = lr_model.predict(X_test)\n",
    "\n",
    "# 평가\n",
    "train_mae = mean_absolute_error(y_train, y_pred_train)\n",
    "test_mae = mean_absolute_error(y_test, y_pred_test)\n",
    "train_mape = mean_absolute_percentage_error(y_train, y_pred_train) * 100\n",
    "test_mape = mean_absolute_percentage_error(y_test, y_pred_test) * 100\n",
    "\n",
    "print(f'Multiple Regression - 훈련 세트 MAE: {train_mae}, 테스트 세트 MAE: {test_mae}')\n",
    "print(f'Multiple Regression - 훈련 세트 MAPE: {train_mape}%, 테스트 세트 MAPE: {test_mape}%')"
   ]
  },
  {
   "cell_type": "code",
   "execution_count": 97,
   "metadata": {},
   "outputs": [
    {
     "name": "stdout",
     "output_type": "stream",
     "text": [
      "Random Forest - 훈련 세트 MAE: 0.012191364722299567, 테스트 세트 MAE: 0.02435759829186735\n",
      "Random Forest - 훈련 세트 MAPE: 0.40166288439336273%, 테스트 세트 MAPE: 0.8035878594014128%\n"
     ]
    }
   ],
   "source": [
    "from sklearn.ensemble import RandomForestRegressor\n",
    "\n",
    "# 모델 생성\n",
    "rf_model = RandomForestRegressor(n_estimators=100, random_state=42)\n",
    "\n",
    "# 모델 학습\n",
    "rf_model.fit(X_train, y_train)\n",
    "\n",
    "# 예측\n",
    "y_pred_train_rf = rf_model.predict(X_train)\n",
    "y_pred_test_rf = rf_model.predict(X_test)\n",
    "\n",
    "# 평가\n",
    "train_mae_rf = mean_absolute_error(y_train, y_pred_train_rf)\n",
    "test_mae_rf = mean_absolute_error(y_test, y_pred_test_rf)\n",
    "train_mape_rf = mean_absolute_percentage_error(y_train, y_pred_train_rf) * 100\n",
    "test_mape_rf = mean_absolute_percentage_error(y_test, y_pred_test_rf) * 100\n",
    "\n",
    "print(f'Random Forest - 훈련 세트 MAE: {train_mae_rf}, 테스트 세트 MAE: {test_mae_rf}')\n",
    "print(f'Random Forest - 훈련 세트 MAPE: {train_mape_rf}%, 테스트 세트 MAPE: {test_mape_rf}%')"
   ]
  },
  {
   "cell_type": "code",
   "execution_count": 90,
   "metadata": {},
   "outputs": [
    {
     "name": "stdout",
     "output_type": "stream",
     "text": [
      "Defaulting to user installation because normal site-packages is not writeable\n",
      "Collecting lightgbm\n",
      "  Downloading lightgbm-4.3.0-py3-none-win_amd64.whl.metadata (19 kB)\n",
      "Requirement already satisfied: numpy in c:\\programdata\\anaconda3\\envs\\torch_nlp38\\lib\\site-packages (from lightgbm) (1.24.3)\n",
      "Requirement already satisfied: scipy in c:\\programdata\\anaconda3\\envs\\torch_nlp38\\lib\\site-packages (from lightgbm) (1.10.1)\n",
      "Downloading lightgbm-4.3.0-py3-none-win_amd64.whl (1.3 MB)\n",
      "   ---------------------------------------- 0.0/1.3 MB ? eta -:--:--\n",
      "   ------- -------------------------------- 0.2/1.3 MB 4.8 MB/s eta 0:00:01\n",
      "   ------------------------------- -------- 1.0/1.3 MB 13.3 MB/s eta 0:00:01\n",
      "   ------------------------------- -------- 1.0/1.3 MB 13.3 MB/s eta 0:00:01\n",
      "   ---------------------------------------- 1.3/1.3 MB 8.5 MB/s eta 0:00:00\n",
      "Installing collected packages: lightgbm\n",
      "Successfully installed lightgbm-4.3.0\n",
      "Note: you may need to restart the kernel to use updated packages.\n"
     ]
    }
   ],
   "source": [
    "%pip install lightgbm"
   ]
  },
  {
   "cell_type": "code",
   "execution_count": 98,
   "metadata": {},
   "outputs": [
    {
     "name": "stdout",
     "output_type": "stream",
     "text": [
      "LightGBM - 훈련 세트 MAE: 0.009389296382042252, 테스트 세트 MAE: 0.029217149260536444\n",
      "LightGBM - 훈련 세트 MAPE: 0.3092651607343426%, 테스트 세트 MAPE: 0.963113900033098%\n"
     ]
    }
   ],
   "source": [
    "import lightgbm as lgb\n",
    "\n",
    "# LightGBM 모델 생성\n",
    "lgb_train = lgb.Dataset(X_train, y_train)\n",
    "lgb_eval = lgb.Dataset(X_test, y_test, reference=lgb_train)\n",
    "\n",
    "# LightGBM 파라미터 설정\n",
    "params = {\n",
    "    'objective': 'regression',\n",
    "    'metric': 'mae',  # 평가 지표\n",
    "    'boosting_type': 'gbdt',\n",
    "    'learning_rate': 0.1,\n",
    "    'num_leaves': 31,\n",
    "    'verbose': 0\n",
    "}\n",
    "\n",
    "# 모델 학습\n",
    "gbm = lgb.train(params, lgb_train, valid_sets=[lgb_train, lgb_eval], num_boost_round=1000)\n",
    "\n",
    "# 조기 종료 설정\n",
    "gbm = lgb.train(params, lgb_train, valid_sets=[lgb_train, lgb_eval], num_boost_round=10000)#, \n",
    "                #early_stopping_rounds=10)\n",
    "\n",
    "# 예측\n",
    "y_pred_train = gbm.predict(X_train, num_iteration=gbm.best_iteration)\n",
    "y_pred_test = gbm.predict(X_test, num_iteration=gbm.best_iteration)\n",
    "\n",
    "# 평가\n",
    "train_mae = mean_absolute_error(y_train, y_pred_train)\n",
    "test_mae = mean_absolute_error(y_test, y_pred_test)\n",
    "train_mape = mean_absolute_percentage_error(y_train, y_pred_train) * 100\n",
    "test_mape = mean_absolute_percentage_error(y_test, y_pred_test) * 100\n",
    "\n",
    "print(f'LightGBM - 훈련 세트 MAE: {train_mae}, 테스트 세트 MAE: {test_mae}')\n",
    "print(f'LightGBM - 훈련 세트 MAPE: {train_mape}%, 테스트 세트 MAPE: {test_mape}%')"
   ]
  },
  {
   "cell_type": "code",
   "execution_count": null,
   "metadata": {},
   "outputs": [],
   "source": []
  }
 ],
 "metadata": {
  "kernelspec": {
   "display_name": "Torch_NLP38",
   "language": "python",
   "name": "python3"
  },
  "language_info": {
   "codemirror_mode": {
    "name": "ipython",
    "version": 3
   },
   "file_extension": ".py",
   "mimetype": "text/x-python",
   "name": "python",
   "nbconvert_exporter": "python",
   "pygments_lexer": "ipython3",
   "version": "3.8.19"
  }
 },
 "nbformat": 4,
 "nbformat_minor": 2
}
